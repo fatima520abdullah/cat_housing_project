{
 "cells": [
  {
   "cell_type": "code",
   "execution_count": 12,
   "id": "b5f7b5d4-f699-4985-8256-b4e0b47ae56d",
   "metadata": {},
   "outputs": [
    {
     "name": "stdout",
     "output_type": "stream",
     "text": [
      "X_train: (16512, 12) X_test: (4128, 12)\n"
     ]
    }
   ],
   "source": [
    "# Load processed data from EDA (already imputed + one-hot encoded)\n",
    "import pandas as pd\n",
    "from pathlib import Path\n",
    "\n",
    "TRAIN_DIR = Path(\"../data/train\")\n",
    "TEST_DIR  = Path(\"../data/test\")\n",
    "\n",
    "X_train = pd.read_csv(TRAIN_DIR / \"train_features_processed.csv\")\n",
    "y_train = pd.read_csv(TRAIN_DIR / \"train_labels.csv\").squeeze(\"columns\")\n",
    "X_test  = pd.read_csv(TEST_DIR  / \"test_features_processed.csv\")\n",
    "y_test  = pd.read_csv(TEST_DIR  / \"test_labels.csv\").squeeze(\"columns\")\n",
    "\n",
    "print(\"X_train:\", X_train.shape, \"X_test:\", X_test.shape)\n"
   ]
  },
  {
   "cell_type": "code",
   "execution_count": 13,
   "id": "70771d5a-1f31-4809-b00e-261958006ece",
   "metadata": {},
   "outputs": [
    {
     "name": "stdout",
     "output_type": "stream",
     "text": [
      "X_train: (16512, 12) X_test: (4128, 12)\n",
      "y_train: (16512,) y_test: (4128,)\n",
      "After cleaning → X_train: (16512, 12) y_train: (16512,)\n",
      "NaNs left (features): 0 0\n"
     ]
    }
   ],
   "source": [
    "import numpy as np\n",
    "import pandas as pd\n",
    "\n",
    "# 1) Show shapes quickly\n",
    "print(\"X_train:\", X_train.shape, \"X_test:\", X_test.shape)\n",
    "print(\"y_train:\", y_train.shape, \"y_test:\", y_test.shape)\n",
    "\n",
    "# 2) Replace inf/-inf with NaN (can appear from divisions)\n",
    "X_train = X_train.replace([np.inf, -np.inf], np.nan)\n",
    "X_test  = X_test.replace([np.inf, -np.inf], np.nan)\n",
    "\n",
    "# 3) Force all columns numeric (coerce non-numeric to NaN)\n",
    "X_train = X_train.apply(pd.to_numeric, errors=\"coerce\")\n",
    "X_test  = X_test.apply(pd.to_numeric,  errors=\"coerce\")\n",
    "\n",
    "# 4) Fill any remaining NaNs in FEATURES using TRAIN medians\n",
    "med = X_train.median(numeric_only=True)\n",
    "X_train = X_train.fillna(med)\n",
    "X_test  = X_test.fillna(med)  # use train medians\n",
    "\n",
    "# 5) Ensure labels are numeric and valid\n",
    "y_train = pd.to_numeric(y_train, errors=\"coerce\")\n",
    "y_test  = pd.to_numeric(y_test,  errors=\"coerce\")\n",
    "\n",
    "# Drop rows where y_train is NaN or infinite (should be none, but be safe)\n",
    "good = y_train.notna() & np.isfinite(y_train.to_numpy())\n",
    "X_train = X_train.loc[good].reset_index(drop=True)\n",
    "y_train = y_train.loc[good].reset_index(drop=True)\n",
    "\n",
    "print(\"After cleaning → X_train:\", X_train.shape, \"y_train:\", y_train.shape)\n",
    "print(\"NaNs left (features):\", int(X_train.isna().sum().sum()), int(X_test.isna().sum().sum()))\n"
   ]
  },
  {
   "cell_type": "code",
   "execution_count": null,
   "id": "1518b3af-1497-4e31-8013-c698c2631dda",
   "metadata": {},
   "outputs": [],
   "source": []
  },
  {
   "cell_type": "code",
   "execution_count": 14,
   "id": "99d85618-4cdb-4733-9b76-97ab4e78f898",
   "metadata": {},
   "outputs": [
    {
     "name": "stdout",
     "output_type": "stream",
     "text": [
      "Per-column NaNs (train):\n",
      "longitude                     0\n",
      "latitude                      0\n",
      "housing_median_age            0\n",
      "total_rooms                   0\n",
      "total_bedrooms                0\n",
      "population                    0\n",
      "households                    0\n",
      "median_income                 0\n",
      "ocean_proximity_INLAND        0\n",
      "ocean_proximity_ISLAND        0\n",
      "ocean_proximity_NEAR BAY      0\n",
      "ocean_proximity_NEAR OCEAN    0\n",
      "dtype: int64\n",
      "\n",
      "Dtypes:\n",
      "longitude                     float64\n",
      "latitude                      float64\n",
      "housing_median_age            float64\n",
      "total_rooms                   float64\n",
      "total_bedrooms                float64\n",
      "population                    float64\n",
      "households                    float64\n",
      "median_income                 float64\n",
      "ocean_proximity_INLAND           bool\n",
      "ocean_proximity_ISLAND           bool\n",
      "ocean_proximity_NEAR BAY         bool\n",
      "ocean_proximity_NEAR OCEAN       bool\n",
      "dtype: object\n"
     ]
    }
   ],
   "source": [
    "print(\"Per-column NaNs (train):\")\n",
    "print(X_train.isna().sum().sort_values(ascending=False).head(20))\n",
    "print(\"\\nDtypes:\")\n",
    "print(X_train.dtypes)\n"
   ]
  },
  {
   "cell_type": "code",
   "execution_count": 16,
   "id": "d8bfb679-5032-4ce4-80c8-b58494696849",
   "metadata": {},
   "outputs": [
    {
     "name": "stdout",
     "output_type": "stream",
     "text": [
      "LR  Test RMSE: 71002.83776920449\n",
      "LR  Test R²  : 0.6233813507638213\n"
     ]
    }
   ],
   "source": [
    "from sklearn.pipeline import Pipeline\n",
    "from sklearn.preprocessing import StandardScaler\n",
    "from sklearn.linear_model import LinearRegression\n",
    "from sklearn.metrics import mean_squared_error, r2_score\n",
    "import numpy as np\n",
    "import joblib\n",
    "import pandas as pd\n",
    "\n",
    "# ensure labels are 1-D numeric (sometimes they load as DataFrame)\n",
    "y_train = pd.to_numeric(y_train, errors=\"coerce\").to_numpy().ravel()\n",
    "y_test  = pd.to_numeric(y_test,  errors=\"coerce\").to_numpy().ravel()\n",
    "\n",
    "pipe = Pipeline([\n",
    "    (\"scaler\", StandardScaler()),\n",
    "    (\"model\", LinearRegression())\n",
    "])\n",
    "\n",
    "pipe.fit(X_train, y_train)\n",
    "pred = pipe.predict(X_test)\n",
    "\n",
    "# Robust RMSE/R2 printing (no squared= kw)\n",
    "rmse = np.sqrt(mean_squared_error(y_test, pred))\n",
    "r2   = r2_score(y_test, pred)\n",
    "print(\"LR  Test RMSE:\", rmse)\n",
    "print(\"LR  Test R²  :\", r2)\n",
    "\n",
    "# save model + predictions (same naming as your file)\n",
    "joblib.dump(pipe, \"linear_regression.joblib\")\n",
    "pd.DataFrame({\"y_true\": y_test, \"y_pred\": pred}).to_csv(\"linear_regression_predictions.csv\", index=False)\n"
   ]
  }
 ],
 "metadata": {
  "kernelspec": {
   "display_name": "Python 3.12 (default)",
   "language": "python",
   "name": "python3"
  },
  "language_info": {
   "codemirror_mode": {
    "name": "ipython",
    "version": 3
   },
   "file_extension": ".py",
   "mimetype": "text/x-python",
   "name": "python",
   "nbconvert_exporter": "python",
   "pygments_lexer": "ipython3",
   "version": "3.12.11"
  }
 },
 "nbformat": 4,
 "nbformat_minor": 5
}
