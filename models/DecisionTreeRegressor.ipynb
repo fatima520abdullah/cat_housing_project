{
 "cells": [
  {
   "cell_type": "code",
   "execution_count": 3,
   "id": "a0c3a971-0839-4981-9f68-f688d1bea09a",
   "metadata": {},
   "outputs": [],
   "source": [
    "###DecisionTree"
   ]
  },
  {
   "cell_type": "code",
   "execution_count": 7,
   "id": "9e249961-a2ac-4fbf-9a04-f46d8b6e2cd2",
   "metadata": {},
   "outputs": [
    {
     "name": "stdout",
     "output_type": "stream",
     "text": [
      "X_train: (16512, 12) y_train: (16512,)\n",
      "X_test: (4128, 12) y_test: (4128,)\n"
     ]
    }
   ],
   "source": [
    "from pathlib import Path\n",
    "import pandas as pd\n",
    "\n",
    "# Paths\n",
    "TRAIN_DIR = Path(\"../data/train\")\n",
    "TEST_DIR = Path(\"../data/test\")\n",
    "\n",
    "# Load processed data (from EDA)\n",
    "X_train = pd.read_csv(TRAIN_DIR / \"train_features_processed.csv\")\n",
    "y_train = pd.read_csv(TRAIN_DIR / \"train_labels.csv\").squeeze(\"columns\")\n",
    "\n",
    "X_test = pd.read_csv(TEST_DIR / \"test_features_processed.csv\")\n",
    "y_test = pd.read_csv(TEST_DIR / \"test_labels.csv\").squeeze(\"columns\")\n",
    "\n",
    "print(\"X_train:\", X_train.shape, \"y_train:\", y_train.shape)\n",
    "print(\"X_test:\", X_test.shape, \"y_test:\", y_test.shape)\n"
   ]
  },
  {
   "cell_type": "code",
   "execution_count": 8,
   "id": "da9cbe3b-7986-4628-8d89-595768c42179",
   "metadata": {},
   "outputs": [],
   "source": [
    "from sklearn.pipeline import Pipeline\n",
    "from sklearn.preprocessing import StandardScaler\n",
    "from sklearn.tree import DecisionTreeRegressor\n",
    "from sklearn.metrics import mean_squared_error, r2_score\n",
    "import joblib\n",
    "import pandas as pd\n",
    "import numpy as np\n"
   ]
  },
  {
   "cell_type": "code",
   "execution_count": 9,
   "id": "bb793feb-80b7-4118-9cfc-35418246343f",
   "metadata": {},
   "outputs": [
    {
     "name": "stdout",
     "output_type": "stream",
     "text": [
      "Decision Tree Test RMSE: 68004.89825709861\n",
      "Decision Tree Test R²  : 0.6545137251628461\n"
     ]
    }
   ],
   "source": [
    "from sklearn.tree import DecisionTreeRegressor\n",
    "\n",
    "# Build pipeline\n",
    "pipe = Pipeline([\n",
    "    (\"scaler\", StandardScaler()),    # not strictly needed for trees, but keeps pipeline uniform\n",
    "    (\"model\", DecisionTreeRegressor(random_state=42))\n",
    "])\n",
    "\n",
    "# Train\n",
    "pipe.fit(X_train, y_train)\n",
    "pred = pipe.predict(X_test)\n",
    "\n",
    "# Evaluate\n",
    "rmse = np.sqrt(mean_squared_error(y_test, pred))\n",
    "r2   = r2_score(y_test, pred)\n",
    "print(\"Decision Tree Test RMSE:\", rmse)\n",
    "print(\"Decision Tree Test R²  :\", r2)\n",
    "\n",
    "# Save model + predictions\n",
    "joblib.dump(pipe, \"decision_tree.joblib\")\n",
    "pd.DataFrame({\"y_true\": y_test, \"y_pred\": pred}).to_csv(\n",
    "    \"decision_tree_predictions.csv\", index=False\n",
    ")\n"
   ]
  },
  {
   "cell_type": "code",
   "execution_count": null,
   "id": "88bff655-fdb7-480b-931c-f163055ba3cf",
   "metadata": {},
   "outputs": [],
   "source": []
  }
 ],
 "metadata": {
  "kernelspec": {
   "display_name": "Python 3.12 (default)",
   "language": "python",
   "name": "python3"
  },
  "language_info": {
   "codemirror_mode": {
    "name": "ipython",
    "version": 3
   },
   "file_extension": ".py",
   "mimetype": "text/x-python",
   "name": "python",
   "nbconvert_exporter": "python",
   "pygments_lexer": "ipython3",
   "version": "3.12.11"
  }
 },
 "nbformat": 4,
 "nbformat_minor": 5
}
