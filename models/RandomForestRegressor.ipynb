{
 "cells": [
  {
   "cell_type": "code",
   "execution_count": 2,
   "id": "ba0823c5-acf4-4328-97b6-5b228ef677eb",
   "metadata": {},
   "outputs": [],
   "source": [
    "#randomforest"
   ]
  },
  {
   "cell_type": "code",
   "execution_count": 3,
   "id": "b9f118db-f7e6-4a2c-b54c-f5b00efe3653",
   "metadata": {},
   "outputs": [
    {
     "name": "stdout",
     "output_type": "stream",
     "text": [
      "X_train: (16512, 12) y_train: (16512,)\n",
      "X_test: (4128, 12) y_test: (4128,)\n"
     ]
    }
   ],
   "source": [
    "from pathlib import Path\n",
    "import pandas as pd\n",
    "\n",
    "# Paths\n",
    "TRAIN_DIR = Path(\"../data/train\")\n",
    "TEST_DIR = Path(\"../data/test\")\n",
    "\n",
    "# Load processed data (from EDA)\n",
    "X_train = pd.read_csv(TRAIN_DIR / \"train_features_processed.csv\")\n",
    "y_train = pd.read_csv(TRAIN_DIR / \"train_labels.csv\").squeeze(\"columns\")\n",
    "\n",
    "X_test = pd.read_csv(TEST_DIR / \"test_features_processed.csv\")\n",
    "y_test = pd.read_csv(TEST_DIR / \"test_labels.csv\").squeeze(\"columns\")\n",
    "\n",
    "print(\"X_train:\", X_train.shape, \"y_train:\", y_train.shape)\n",
    "print(\"X_test:\", X_test.shape, \"y_test:\", y_test.shape)"
   ]
  },
  {
   "cell_type": "code",
   "execution_count": 4,
   "id": "2e533260-78b8-4a17-b5a9-babcead28adf",
   "metadata": {},
   "outputs": [
    {
     "name": "stdout",
     "output_type": "stream",
     "text": [
      "Random Forest Test RMSE: 49170.01212813735\n",
      "Random Forest Test R²  : 0.8193861545755199\n"
     ]
    }
   ],
   "source": [
    "# --- Random Forest Regressor ---\n",
    "from sklearn.ensemble import RandomForestRegressor\n",
    "from sklearn.metrics import mean_squared_error, r2_score\n",
    "import numpy as np\n",
    "import joblib\n",
    "import pandas as pd\n",
    "from pathlib import Path\n",
    "\n",
    "# If this notebook is standalone, uncomment the loader:\n",
    "# TRAIN_DIR = Path(\"../data/train\"); TEST_DIR = Path(\"../data/test\")\n",
    "# X_train = pd.read_csv(TRAIN_DIR / \"train_features_processed.csv\")\n",
    "# y_train = pd.read_csv(TRAIN_DIR / \"train_labels.csv\").squeeze(\"columns\")\n",
    "# X_test  = pd.read_csv(TEST_DIR  / \"test_features_processed.csv\")\n",
    "# y_test  = pd.read_csv(TEST_DIR  / \"test_labels.csv\").squeeze(\"columns\")\n",
    "\n",
    "rf = RandomForestRegressor(\n",
    "    n_estimators=200,      # good starting point\n",
    "    random_state=42,\n",
    "    n_jobs=-1,            # use all cores\n",
    ")\n",
    "rf.fit(X_train, y_train)\n",
    "rf_pred = rf.predict(X_test)\n",
    "\n",
    "rf_rmse = np.sqrt(mean_squared_error(y_test, rf_pred))\n",
    "rf_r2   = r2_score(y_test, rf_pred)\n",
    "print(\"Random Forest Test RMSE:\", rf_rmse)\n",
    "print(\"Random Forest Test R²  :\", rf_r2)\n",
    "\n",
    "joblib.dump(rf, \"random_forest.joblib\")\n",
    "pd.DataFrame({\"y_true\": y_test, \"y_pred\": rf_pred}).to_csv(\n",
    "    \"random_forest_predictions.csv\", index=False\n",
    ")\n"
   ]
  },
  {
   "cell_type": "code",
   "execution_count": null,
   "id": "4dab66c0-30ee-4a47-bb8d-6681a97643ca",
   "metadata": {},
   "outputs": [],
   "source": []
  }
 ],
 "metadata": {
  "kernelspec": {
   "display_name": "Python 3.12 (default)",
   "language": "python",
   "name": "python3"
  },
  "language_info": {
   "codemirror_mode": {
    "name": "ipython",
    "version": 3
   },
   "file_extension": ".py",
   "mimetype": "text/x-python",
   "name": "python",
   "nbconvert_exporter": "python",
   "pygments_lexer": "ipython3",
   "version": "3.12.11"
  }
 },
 "nbformat": 4,
 "nbformat_minor": 5
}
