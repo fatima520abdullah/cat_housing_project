{
 "cells": [
  {
   "cell_type": "code",
   "execution_count": null,
   "id": "6308c1e2-0f73-48f1-8d3b-b7bf5aac8197",
   "metadata": {},
   "outputs": [],
   "source": [
    "##SVR"
   ]
  },
  {
   "cell_type": "code",
   "execution_count": 1,
   "id": "92618332-32dd-442f-adff-45b48aed9d65",
   "metadata": {},
   "outputs": [
    {
     "name": "stdout",
     "output_type": "stream",
     "text": [
      "X_train: (16512, 12) y_train: (16512,)\n",
      "X_test: (4128, 12) y_test: (4128,)\n"
     ]
    }
   ],
   "source": [
    "from pathlib import Path\n",
    "import pandas as pd\n",
    "\n",
    "# Paths\n",
    "TRAIN_DIR = Path(\"../data/train\")\n",
    "TEST_DIR = Path(\"../data/test\")\n",
    "\n",
    "# Load processed data (from EDA)\n",
    "X_train = pd.read_csv(TRAIN_DIR / \"train_features_processed.csv\")\n",
    "y_train = pd.read_csv(TRAIN_DIR / \"train_labels.csv\").squeeze(\"columns\")\n",
    "\n",
    "X_test = pd.read_csv(TEST_DIR / \"test_features_processed.csv\")\n",
    "y_test = pd.read_csv(TEST_DIR / \"test_labels.csv\").squeeze(\"columns\")\n",
    "\n",
    "print(\"X_train:\", X_train.shape, \"y_train:\", y_train.shape)\n",
    "print(\"X_test:\", X_test.shape, \"y_test:\", y_test.shape)"
   ]
  },
  {
   "cell_type": "code",
   "execution_count": 2,
   "id": "2ec62c7f-4a7b-40e5-b9b1-6f01494569b6",
   "metadata": {},
   "outputs": [
    {
     "name": "stdout",
     "output_type": "stream",
     "text": [
      "SVR  Test RMSE: 115478.2752235801\n",
      "SVR  Test R²  : 0.0037897962113365713\n"
     ]
    }
   ],
   "source": [
    "# --- Support Vector Regressor (SVR) ---\n",
    "from sklearn.pipeline import Pipeline\n",
    "from sklearn.preprocessing import StandardScaler\n",
    "from sklearn.svm import SVR\n",
    "from sklearn.metrics import mean_squared_error, r2_score\n",
    "import numpy as np\n",
    "import joblib\n",
    "import pandas as pd\n",
    "from pathlib import Path\n",
    "\n",
    "# If this notebook is standalone, uncomment the loader:\n",
    "# TRAIN_DIR = Path(\"../data/train\"); TEST_DIR = Path(\"../data/test\")\n",
    "# X_train = pd.read_csv(TRAIN_DIR / \"train_features_processed.csv\")\n",
    "# y_train = pd.read_csv(TRAIN_DIR / \"train_labels.csv\").squeeze(\"columns\")\n",
    "# X_test  = pd.read_csv(TEST_DIR  / \"test_features_processed.csv\")\n",
    "# y_test  = pd.read_csv(TEST_DIR  / \"test_labels.csv\").squeeze(\"columns\")\n",
    "\n",
    "# Ensure labels are 1-D numeric\n",
    "y_train = pd.to_numeric(y_train, errors=\"coerce\").to_numpy().ravel()\n",
    "y_test  = pd.to_numeric(y_test,  errors=\"coerce\").to_numpy().ravel()\n",
    "\n",
    "pipe = Pipeline([\n",
    "    (\"scaler\", StandardScaler()),           # SVR needs scaling\n",
    "    (\"model\",  SVR(kernel=\"rbf\", C=10.0, gamma=\"scale\"))  # simple good default\n",
    "])\n",
    "\n",
    "pipe.fit(X_train, y_train)\n",
    "pred = pipe.predict(X_test)\n",
    "\n",
    "rmse = np.sqrt(mean_squared_error(y_test, pred))  # robust to sklearn version\n",
    "r2   = r2_score(y_test, pred)\n",
    "print(\"SVR  Test RMSE:\", rmse)\n",
    "print(\"SVR  Test R²  :\", r2)\n",
    "\n",
    "joblib.dump(pipe, \"svr_rbf.joblib\")\n",
    "pd.DataFrame({\"y_true\": y_test, \"y_pred\": pred}).to_csv(\n",
    "    \"svr_predictions.csv\", index=False\n",
    ")\n"
   ]
  },
  {
   "cell_type": "code",
   "execution_count": null,
   "id": "34540ee0-c5f5-4606-b1b1-61dbd8ba9676",
   "metadata": {},
   "outputs": [],
   "source": []
  }
 ],
 "metadata": {
  "kernelspec": {
   "display_name": "Python 3.12 (default)",
   "language": "python",
   "name": "python3"
  },
  "language_info": {
   "codemirror_mode": {
    "name": "ipython",
    "version": 3
   },
   "file_extension": ".py",
   "mimetype": "text/x-python",
   "name": "python",
   "nbconvert_exporter": "python",
   "pygments_lexer": "ipython3",
   "version": "3.12.11"
  }
 },
 "nbformat": 4,
 "nbformat_minor": 5
}
